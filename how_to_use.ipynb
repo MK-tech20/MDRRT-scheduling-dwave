{
 "cells": [
  {
   "cell_type": "markdown",
   "metadata": {},
   "source": [
    "Make the Binary Quadratic Model for sports scheduling problem.\n",
    "Definitions and comments in this code are based on the following paper.\n",
    "\n",
    "Title:\n",
    "  **SOLVING LARGE BREAK MINIMIZATION PROBLEMS IN A MIRRORED DOUBLE ROUND-ROBIN TOURNAMENT USING QUANTUM ANNEALING.**\n",
    "  (https://arxiv.org/pdf/2110.07239.pdf)\n",
    "\n",
    "Author:\n",
    " - Michiya Kuramata (Tokyo Institute of Technology, Tokyo, Japan)\n",
    " - Ryota Katsuki (NTT DATA, Tokyo, Japan)\n",
    " - Nakata Kazuhide (Tokyo Institute of Technology, Tokyo, Japan)"
   ]
  },
  {
   "cell_type": "code",
   "execution_count": 1,
   "metadata": {
    "pycharm": {
     "name": "#%%\n"
    }
   },
   "outputs": [],
   "source": [
    "import itertools\n",
    "\n",
    "import pyqubo\n",
    "from dwave.system.samplers import DWaveSampler\n",
    "from dwave.system import EmbeddingComposite\n",
    "import neal\n",
    "import gurobipy\n",
    "\n",
    "from sports.sports_scheduling import *\n",
    "from sports.sports_gurobi import *"
   ]
  },
  {
   "cell_type": "markdown",
   "metadata": {},
   "source": [
    "# MDRRT using D-Wave Machine (or SA)."
   ]
  },
  {
   "cell_type": "markdown",
   "metadata": {},
   "source": [
    "#### Set the Parameters for MDRRT"
   ]
  },
  {
   "cell_type": "code",
   "execution_count": 2,
   "metadata": {
    "pycharm": {
     "name": "#%%\n"
    }
   },
   "outputs": [],
   "source": [
    "# 2n is the number of teams.\n",
    "# n should be 2 <= n <= 24.\n",
    "# If n=2, the num of teams is 4 and timeslots in RRT and MDRRT are 3 and 6 respectively (same shape with Table 1).\n",
    "# If n=4, the num of teams is 8 and timeslots in RRT and MDRRT are 7 and 14.\n",
    "n = 4\n",
    "\n",
    "# version is the problem instance used in this experiments.\n",
    "# Each version is correspond to the csv files in problems directory.\n",
    "# These files are used in Numerical experiments and Discussion section in our paper.\n",
    "# Csv files are calculated by Kirkman Schedule and shuffled in advance independently.\n",
    "# If you need to remake them, run sports_scheduling.kirkman_schedule and shuffle them on your own.\n",
    "# If you set n=2 and choose version=0, you are going to use problems/02_v0_schedule.csv\n",
    "version = 0\n",
    "\n",
    "mdrrt = MDRRT(n, f'./problems/{n:02}_v{version}_schedule.csv')"
   ]
  },
  {
   "cell_type": "markdown",
   "metadata": {},
   "source": [
    "`mdrrt.schedule` is based on MDRRT (**Mirrored** Double Round Robin Tournament), so the table in timeslot 0\\~6 and 7\\~13 is same.\n",
    "\n",
    " - num of teams: 8\n",
    " - num of timeslots in MDRRT: 14"
   ]
  },
  {
   "cell_type": "code",
   "execution_count": 3,
   "metadata": {
    "pycharm": {
     "name": "#%%\n"
    }
   },
   "outputs": [
    {
     "data": {
      "text/html": [
       "<div>\n",
       "<style scoped>\n",
       "    .dataframe tbody tr th:only-of-type {\n",
       "        vertical-align: middle;\n",
       "    }\n",
       "\n",
       "    .dataframe tbody tr th {\n",
       "        vertical-align: top;\n",
       "    }\n",
       "\n",
       "    .dataframe thead th {\n",
       "        text-align: right;\n",
       "    }\n",
       "</style>\n",
       "<table border=\"1\" class=\"dataframe\">\n",
       "  <thead>\n",
       "    <tr style=\"text-align: right;\">\n",
       "      <th>timeslot</th>\n",
       "      <th>0</th>\n",
       "      <th>1</th>\n",
       "      <th>2</th>\n",
       "      <th>3</th>\n",
       "      <th>4</th>\n",
       "      <th>5</th>\n",
       "      <th>6</th>\n",
       "      <th>7</th>\n",
       "      <th>8</th>\n",
       "      <th>9</th>\n",
       "      <th>10</th>\n",
       "      <th>11</th>\n",
       "      <th>12</th>\n",
       "      <th>13</th>\n",
       "    </tr>\n",
       "    <tr>\n",
       "      <th>team</th>\n",
       "      <th></th>\n",
       "      <th></th>\n",
       "      <th></th>\n",
       "      <th></th>\n",
       "      <th></th>\n",
       "      <th></th>\n",
       "      <th></th>\n",
       "      <th></th>\n",
       "      <th></th>\n",
       "      <th></th>\n",
       "      <th></th>\n",
       "      <th></th>\n",
       "      <th></th>\n",
       "      <th></th>\n",
       "    </tr>\n",
       "  </thead>\n",
       "  <tbody>\n",
       "    <tr>\n",
       "      <th>0</th>\n",
       "      <td>3</td>\n",
       "      <td>7</td>\n",
       "      <td>4</td>\n",
       "      <td>6</td>\n",
       "      <td>5</td>\n",
       "      <td>1</td>\n",
       "      <td>2</td>\n",
       "      <td>3</td>\n",
       "      <td>7</td>\n",
       "      <td>4</td>\n",
       "      <td>6</td>\n",
       "      <td>5</td>\n",
       "      <td>1</td>\n",
       "      <td>2</td>\n",
       "    </tr>\n",
       "    <tr>\n",
       "      <th>1</th>\n",
       "      <td>2</td>\n",
       "      <td>6</td>\n",
       "      <td>3</td>\n",
       "      <td>5</td>\n",
       "      <td>4</td>\n",
       "      <td>0</td>\n",
       "      <td>7</td>\n",
       "      <td>2</td>\n",
       "      <td>6</td>\n",
       "      <td>3</td>\n",
       "      <td>5</td>\n",
       "      <td>4</td>\n",
       "      <td>0</td>\n",
       "      <td>7</td>\n",
       "    </tr>\n",
       "    <tr>\n",
       "      <th>2</th>\n",
       "      <td>1</td>\n",
       "      <td>5</td>\n",
       "      <td>7</td>\n",
       "      <td>4</td>\n",
       "      <td>3</td>\n",
       "      <td>6</td>\n",
       "      <td>0</td>\n",
       "      <td>1</td>\n",
       "      <td>5</td>\n",
       "      <td>7</td>\n",
       "      <td>4</td>\n",
       "      <td>3</td>\n",
       "      <td>6</td>\n",
       "      <td>0</td>\n",
       "    </tr>\n",
       "    <tr>\n",
       "      <th>3</th>\n",
       "      <td>0</td>\n",
       "      <td>4</td>\n",
       "      <td>1</td>\n",
       "      <td>7</td>\n",
       "      <td>2</td>\n",
       "      <td>5</td>\n",
       "      <td>6</td>\n",
       "      <td>0</td>\n",
       "      <td>4</td>\n",
       "      <td>1</td>\n",
       "      <td>7</td>\n",
       "      <td>2</td>\n",
       "      <td>5</td>\n",
       "      <td>6</td>\n",
       "    </tr>\n",
       "    <tr>\n",
       "      <th>4</th>\n",
       "      <td>6</td>\n",
       "      <td>3</td>\n",
       "      <td>0</td>\n",
       "      <td>2</td>\n",
       "      <td>1</td>\n",
       "      <td>7</td>\n",
       "      <td>5</td>\n",
       "      <td>6</td>\n",
       "      <td>3</td>\n",
       "      <td>0</td>\n",
       "      <td>2</td>\n",
       "      <td>1</td>\n",
       "      <td>7</td>\n",
       "      <td>5</td>\n",
       "    </tr>\n",
       "    <tr>\n",
       "      <th>5</th>\n",
       "      <td>7</td>\n",
       "      <td>2</td>\n",
       "      <td>6</td>\n",
       "      <td>1</td>\n",
       "      <td>0</td>\n",
       "      <td>3</td>\n",
       "      <td>4</td>\n",
       "      <td>7</td>\n",
       "      <td>2</td>\n",
       "      <td>6</td>\n",
       "      <td>1</td>\n",
       "      <td>0</td>\n",
       "      <td>3</td>\n",
       "      <td>4</td>\n",
       "    </tr>\n",
       "    <tr>\n",
       "      <th>6</th>\n",
       "      <td>4</td>\n",
       "      <td>1</td>\n",
       "      <td>5</td>\n",
       "      <td>0</td>\n",
       "      <td>7</td>\n",
       "      <td>2</td>\n",
       "      <td>3</td>\n",
       "      <td>4</td>\n",
       "      <td>1</td>\n",
       "      <td>5</td>\n",
       "      <td>0</td>\n",
       "      <td>7</td>\n",
       "      <td>2</td>\n",
       "      <td>3</td>\n",
       "    </tr>\n",
       "    <tr>\n",
       "      <th>7</th>\n",
       "      <td>5</td>\n",
       "      <td>0</td>\n",
       "      <td>2</td>\n",
       "      <td>3</td>\n",
       "      <td>6</td>\n",
       "      <td>4</td>\n",
       "      <td>1</td>\n",
       "      <td>5</td>\n",
       "      <td>0</td>\n",
       "      <td>2</td>\n",
       "      <td>3</td>\n",
       "      <td>6</td>\n",
       "      <td>4</td>\n",
       "      <td>1</td>\n",
       "    </tr>\n",
       "  </tbody>\n",
       "</table>\n",
       "</div>"
      ],
      "text/plain": [
       "timeslot  0   1   2   3   4   5   6   7   8   9   10  11  12  13\n",
       "team                                                            \n",
       "0          3   7   4   6   5   1   2   3   7   4   6   5   1   2\n",
       "1          2   6   3   5   4   0   7   2   6   3   5   4   0   7\n",
       "2          1   5   7   4   3   6   0   1   5   7   4   3   6   0\n",
       "3          0   4   1   7   2   5   6   0   4   1   7   2   5   6\n",
       "4          6   3   0   2   1   7   5   6   3   0   2   1   7   5\n",
       "5          7   2   6   1   0   3   4   7   2   6   1   0   3   4\n",
       "6          4   1   5   0   7   2   3   4   1   5   0   7   2   3\n",
       "7          5   0   2   3   6   4   1   5   0   2   3   6   4   1"
      ]
     },
     "execution_count": 3,
     "metadata": {},
     "output_type": "execute_result"
    }
   ],
   "source": [
    "mdrrt.schedule"
   ]
  },
  {
   "cell_type": "code",
   "execution_count": 4,
   "metadata": {
    "pycharm": {
     "name": "#%%\n"
    }
   },
   "outputs": [],
   "source": [
    "# Definition of decision variable z\n",
    "z_q = pyqubo.Array.create('z', shape=n*(2*n-1), vartype='BINARY')\n",
    "\n",
    "# Definition of decision variable y\n",
    "y_q = z_to_y(mdrrt, z_q)"
   ]
  },
  {
   "cell_type": "code",
   "execution_count": 5,
   "metadata": {
    "pycharm": {
     "name": "#%%\n"
    }
   },
   "outputs": [
    {
     "data": {
      "text/plain": [
       "0.125"
      ]
     },
     "execution_count": 5,
     "metadata": {},
     "output_type": "execute_result"
    }
   ],
   "source": [
    "# Make the objective function (6) using pyqubo\n",
    "# Note that you don't need to include constraints here according to (7) and (8).\n",
    "objective_function = make_objective_function(mdrrt, y_q)\n",
    "model = objective_function.compile()\n",
    "\n",
    "# Make the Binary Quadratic Model for D-Wave.\n",
    "bqm = model.to_bqm()\n",
    "bqm.normalize()"
   ]
  },
  {
   "cell_type": "markdown",
   "metadata": {},
   "source": [
    "#### Input bqm into D-Wave or Simulated Annealing."
   ]
  },
  {
   "cell_type": "code",
   "execution_count": null,
   "metadata": {
    "pycharm": {
     "name": "#%%\n"
    }
   },
   "outputs": [],
   "source": [
    "# Set the endpoint, token and solver for the experiments.\n",
    "# You need to register D-Wave Leap account.\n",
    "# (If you use Simulated Annealing altenatively, please ignore this block.)\n",
    "endpoint = 'https://cloud.dwavesys.com/sapi'  # change according to your account.\n",
    "token = '***'  # change according to your account.\n",
    "solver = 'Advantage_system1.1'  # change according to your account.\n",
    "\n",
    "child_sampler = DWaveSampler(\n",
    "     endpoint=endpoint,\n",
    "     token=token,\n",
    "     solver=solver\n",
    " )\n",
    "\n",
    "sampler = EmbeddingComposite(child_sampler)"
   ]
  },
  {
   "cell_type": "code",
   "execution_count": 6,
   "metadata": {
    "pycharm": {
     "name": "#%%\n"
    }
   },
   "outputs": [],
   "source": [
    "# If you use Simulated Annealing altenatively, run following block.\n",
    "# (If you use D-Wave Machine, please ignore this block.)\n",
    "\n",
    "sampler = neal.SimulatedAnnealingSampler()"
   ]
  },
  {
   "cell_type": "code",
   "execution_count": 7,
   "metadata": {
    "pycharm": {
     "name": "#%%\n"
    }
   },
   "outputs": [],
   "source": [
    "# If you use D-Wave Machine, set the appropriate parameters here\n",
    "\n",
    "num_reads = 1000\n",
    "annealing_time = 50\n",
    "\n",
    "sampleset = sampler.sample(\n",
    "    bqm,\n",
    "    annealing_time = annealing_time,  #If you use SA, comment out this line.\n",
    "    num_reads = num_reads\n",
    ")\n",
    "sampleset = sampleset.aggregate()\n",
    "\n",
    "# Pick up top 3 solutions.\n",
    "data_list = [data for i, data in enumerate(sampleset.data(sorted_by='energy')) if i <3]\n",
    "\n",
    "break_term_c = objective_function.compile()\n",
    "\n",
    "samples = break_term_c.decode_sampleset(sampleset)\n",
    "sample = min(samples, key=lambda s: s.energy)\n",
    "\n",
    "num_breaks_qa = int(sample.energy)"
   ]
  },
  {
   "cell_type": "markdown",
   "metadata": {},
   "source": [
    "#### Result"
   ]
  },
  {
   "cell_type": "code",
   "execution_count": 8,
   "metadata": {
    "pycharm": {
     "name": "#%%\n"
    }
   },
   "outputs": [
    {
     "name": "stdout",
     "output_type": "stream",
     "text": [
      "num of breaks (D-Wave or SA): 20\n"
     ]
    }
   ],
   "source": [
    "print(\"num of breaks (D-Wave or SA):\", num_breaks_qa)"
   ]
  },
  {
   "cell_type": "markdown",
   "metadata": {},
   "source": [
    "# MDRRT experiments by Integer Programming (Urdaneta)"
   ]
  },
  {
   "cell_type": "code",
   "execution_count": 9,
   "metadata": {
    "pycharm": {
     "name": "#%%\n"
    }
   },
   "outputs": [
    {
     "name": "stdout",
     "output_type": "stream",
     "text": [
      "Restricted license - for non-production use only - expires 2022-01-13\n",
      "No parameters matching 'timeout' found\n",
      "Gurobi Optimizer version 9.1.2 build v9.1.2rc0 (mac64)\n",
      "Thread count: 2 physical cores, 4 logical processors, using up to 4 threads\n",
      "Optimize a model with 0 rows, 28 columns and 0 nonzeros\n",
      "Model fingerprint: 0x37ab5cd4\n",
      "Model has 56 quadratic objective terms\n",
      "Variable types: 0 continuous, 28 integer (28 binary)\n",
      "Coefficient statistics:\n",
      "  Matrix range     [0e+00, 0e+00]\n",
      "  Objective range  [2e+00, 8e+00]\n",
      "  QObjective range [4e+00, 8e+00]\n",
      "  Bounds range     [1e+00, 1e+00]\n",
      "  RHS range        [0e+00, 0e+00]\n",
      "Found heuristic solution: objective 66.0000000\n",
      "Presolve time: 0.00s\n",
      "Presolved: 56 rows, 84 columns, 168 nonzeros\n",
      "Variable types: 0 continuous, 84 integer (84 binary)\n",
      "\n",
      "Root relaxation: objective 0.000000e+00, 27 iterations, 0.00 seconds\n",
      "\n",
      "    Nodes    |    Current Node    |     Objective Bounds      |     Work\n",
      " Expl Unexpl |  Obj  Depth IntInf | Incumbent    BestBd   Gap | It/Node Time\n",
      "\n",
      "     0     0    0.00000    0   28   66.00000    0.00000   100%     -    0s\n",
      "H    0     0                      26.0000000    0.00000   100%     -    0s\n",
      "H    0     0                      24.0000000    0.00000   100%     -    0s\n",
      "     0     0    6.00000    0   32   24.00000    6.00000  75.0%     -    0s\n",
      "     0     0    9.00000    0   30   24.00000    9.00000  62.5%     -    0s\n",
      "H    0     0                      20.0000000    9.00000  55.0%     -    0s\n",
      "     0     0   13.00000    0   36   20.00000   13.00000  35.0%     -    0s\n",
      "     0     0   14.00000    0   36   20.00000   14.00000  30.0%     -    0s\n",
      "     0     0   14.50000    0   37   20.00000   14.50000  27.5%     -    0s\n",
      "     0     0   14.50000    0   37   20.00000   14.50000  27.5%     -    0s\n",
      "     0     2   14.50000    0   37   20.00000   14.50000  27.5%     -    0s\n",
      "\n",
      "Cutting planes:\n",
      "  Gomory: 2\n",
      "  Zero half: 23\n",
      "\n",
      "Explored 13 nodes (415 simplex iterations) in 0.30 seconds\n",
      "Thread count was 4 (of 4 available processors)\n",
      "\n",
      "Solution count 4: 20 24 26 66 \n",
      "\n",
      "Optimal solution found (tolerance 1.00e-04)\n",
      "Best objective 2.000000000000e+01, best bound 2.000000000000e+01, gap 0.0000%\n"
     ]
    }
   ],
   "source": [
    "model, y = urdaneta_BMP(\n",
    "    mdrrt,\n",
    "    timeout=300,\n",
    "    model_name='Urdaneta_BMP'\n",
    ")\n",
    "\n",
    "num_breaks_urdaneta = round(model.objval)\n",
    "calculation_time = model.Runtime"
   ]
  },
  {
   "cell_type": "code",
   "execution_count": 10,
   "metadata": {
    "pycharm": {
     "name": "#%%\n"
    }
   },
   "outputs": [
    {
     "name": "stdout",
     "output_type": "stream",
     "text": [
      "num of broken (Urdaneta): 20\n",
      "time (Urdaneta): 0.319375 seconds\n"
     ]
    }
   ],
   "source": [
    "print(\"num of broken (Urdaneta):\", num_breaks_urdaneta)\n",
    "print(f'time (Urdaneta): {round(calculation_time, 7)} seconds')"
   ]
  },
  {
   "cell_type": "markdown",
   "metadata": {},
   "source": [
    "# MDRRT experiments by Integer Programming (Trick)"
   ]
  },
  {
   "cell_type": "code",
   "execution_count": 11,
   "metadata": {
    "pycharm": {
     "name": "#%%\n"
    }
   },
   "outputs": [
    {
     "name": "stdout",
     "output_type": "stream",
     "text": [
      "Changed value of parameter MIPGapAbs to 1.99\n",
      "   Prev: 1e-10  Min: 0.0  Max: inf  Default: 1e-10\n",
      "No parameters matching 'timeout' found\n",
      "Gurobi Optimizer version 9.1.2 build v9.1.2rc0 (mac64)\n",
      "Thread count: 2 physical cores, 4 logical processors, using up to 4 threads\n",
      "Optimize a model with 717 rows, 216 columns and 10385 nonzeros\n",
      "Model fingerprint: 0x0abf4740\n",
      "Variable types: 0 continuous, 216 integer (216 binary)\n",
      "Coefficient statistics:\n",
      "  Matrix range     [1e+00, 1e+00]\n",
      "  Objective range  [1e+00, 1e+00]\n",
      "  Bounds range     [1e+00, 1e+00]\n",
      "  RHS range        [1e+00, 1e+01]\n",
      "Presolve removed 196 rows and 11 columns\n",
      "Presolve time: 0.09s\n",
      "Presolved: 521 rows, 205 columns, 6528 nonzeros\n",
      "Variable types: 0 continuous, 205 integer (205 binary)\n",
      "Found heuristic solution: objective 56.0000000\n",
      "\n",
      "Root relaxation: objective 8.720000e+01, 320 iterations, 0.03 seconds\n",
      "\n",
      "    Nodes    |    Current Node    |     Objective Bounds      |     Work\n",
      " Expl Unexpl |  Obj  Depth IntInf | Incumbent    BestBd   Gap | It/Node Time\n",
      "\n",
      "     0     0   87.20000    0  190   56.00000   87.20000  55.7%     -    0s\n",
      "     0     0   86.41098    0  203   56.00000   86.41098  54.3%     -    0s\n",
      "     0     0   86.21351    0  204   56.00000   86.21351  54.0%     -    0s\n",
      "     0     0   86.20141    0  202   56.00000   86.20141  53.9%     -    0s\n",
      "     0     0   85.47368    0  205   56.00000   85.47368  52.6%     -    0s\n",
      "H    0     0                      80.0000000   85.47368  6.84%     -    0s\n",
      "     0     0   85.45129    0  205   80.00000   85.45129  6.81%     -    0s\n",
      "     0     0   85.45095    0  205   80.00000   85.45095  6.81%     -    0s\n",
      "     0     0   85.45095    0  205   80.00000   85.45095  6.81%     -    0s\n",
      "H    0     0                      84.0000000   85.45095  1.73%     -    0s\n",
      "\n",
      "Cutting planes:\n",
      "  Gomory: 3\n",
      "  Zero half: 17\n",
      "\n",
      "Explored 1 nodes (818 simplex iterations) in 0.68 seconds\n",
      "Thread count was 4 (of 4 available processors)\n",
      "\n",
      "Solution count 3: 84 80 56 \n",
      "\n",
      "Optimal solution found (tolerance 1.00e-04)\n",
      "Best objective 8.400000000000e+01, best bound 8.500000000000e+01, gap 1.1905%\n"
     ]
    }
   ],
   "source": [
    "model, athome = trick_BMP(\n",
    "    mdrrt,\n",
    "    timeout=300,\n",
    "    model_name='Trick_BMP'\n",
    ")\n",
    "\n",
    "calculation_time = model.Runtime\n",
    "\n",
    "gb_answer = np.zeros((mdrrt.num_teams, mdrrt.num_slots), int)\n",
    "for i in range(mdrrt.num_teams):\n",
    "    for t in range(mdrrt.num_slots):\n",
    "        try:\n",
    "            temp = athome[i][t].getValue() if isinstance(athome[i][t], gurobipy.LinExpr) else athome[i][t].X\n",
    "            gb_answer[i][t] = round(temp, 2)\n",
    "        except AttributeError:\n",
    "            break\n",
    "\n",
    "num_breaks_trick = 0\n",
    "for i in range(mdrrt.num_teams):\n",
    "    prev = None\n",
    "    for t in gb_answer[i]:\n",
    "        if prev == t:\n",
    "            num_breaks_trick += 1\n",
    "        prev = t"
   ]
  },
  {
   "cell_type": "code",
   "execution_count": 12,
   "metadata": {
    "pycharm": {
     "name": "#%%\n"
    }
   },
   "outputs": [
    {
     "name": "stdout",
     "output_type": "stream",
     "text": [
      "breaks (Trick): 20\n",
      "time (Trick): 0.7133479 seconds\n"
     ]
    }
   ],
   "source": [
    "print(f'breaks (Trick): {num_breaks_trick}')\n",
    "print(f'time (Trick): {round(calculation_time, 7)} seconds')"
   ]
  },
  {
   "cell_type": "markdown",
   "metadata": {},
   "source": [
    "# Compare methods\n",
    "\n",
    "The calculation time for Gurobi to reach the objective function value which the D-Wave Advantage reaches in 0.05 s."
   ]
  },
  {
   "cell_type": "code",
   "execution_count": 13,
   "metadata": {
    "pycharm": {
     "name": "#%%\n"
    }
   },
   "outputs": [
    {
     "name": "stdout",
     "output_type": "stream",
     "text": [
      "No parameters matching 'timeout' found\n",
      "Changed value of parameter best_obj_stop to 20.0\n",
      "   Prev: -inf  Min: -inf  Max: inf  Default: -inf\n",
      "Gurobi Optimizer version 9.1.2 build v9.1.2rc0 (mac64)\n",
      "Thread count: 2 physical cores, 4 logical processors, using up to 4 threads\n",
      "Optimize a model with 0 rows, 28 columns and 0 nonzeros\n",
      "Model fingerprint: 0x37ab5cd4\n",
      "Model has 56 quadratic objective terms\n",
      "Variable types: 0 continuous, 28 integer (28 binary)\n",
      "Coefficient statistics:\n",
      "  Matrix range     [0e+00, 0e+00]\n",
      "  Objective range  [2e+00, 8e+00]\n",
      "  QObjective range [4e+00, 8e+00]\n",
      "  Bounds range     [1e+00, 1e+00]\n",
      "  RHS range        [0e+00, 0e+00]\n",
      "Found heuristic solution: objective 66.0000000\n",
      "Presolve time: 0.00s\n",
      "Presolved: 56 rows, 84 columns, 168 nonzeros\n",
      "Variable types: 0 continuous, 84 integer (84 binary)\n",
      "\n",
      "Root relaxation: objective 0.000000e+00, 27 iterations, 0.00 seconds\n",
      "\n",
      "    Nodes    |    Current Node    |     Objective Bounds      |     Work\n",
      " Expl Unexpl |  Obj  Depth IntInf | Incumbent    BestBd   Gap | It/Node Time\n",
      "\n",
      "     0     0    0.00000    0   28   66.00000    0.00000   100%     -    0s\n",
      "H    0     0                      26.0000000    0.00000   100%     -    0s\n",
      "H    0     0                      24.0000000    0.00000   100%     -    0s\n",
      "     0     0    6.00000    0   32   24.00000    6.00000  75.0%     -    0s\n",
      "     0     0    9.00000    0   30   24.00000    9.00000  62.5%     -    0s\n",
      "H    0     0                      20.0000000    9.00000  55.0%     -    0s\n",
      "\n",
      "Cutting planes:\n",
      "  Gomory: 2\n",
      "  Zero half: 17\n",
      "\n",
      "Explored 1 nodes (110 simplex iterations) in 0.14 seconds\n",
      "Thread count was 4 (of 4 available processors)\n",
      "\n",
      "Solution count 4: 20 24 26 66 \n",
      "\n",
      "Optimization achieved user objective limit\n",
      "Best objective 2.000000000000e+01, best bound 1.000000000000e+01, gap 50.0000%\n"
     ]
    }
   ],
   "source": [
    "#Terminate if IP(urdaneta) find the better solution than QA.\n",
    "#solve the problem using gurobi(IP(urdaneta))\n",
    "model,y = urdaneta_BMP(\n",
    "    mdrrt,\n",
    "    timeout=None,\n",
    "    model_name='Urdaneta_BMP',\n",
    "    best_obj_stop=num_breaks_qa\n",
    ")\n",
    "\n",
    "urdaneta_time = model.Runtime"
   ]
  },
  {
   "cell_type": "code",
   "execution_count": 14,
   "metadata": {
    "pycharm": {
     "name": "#%%\n"
    }
   },
   "outputs": [
    {
     "name": "stdout",
     "output_type": "stream",
     "text": [
      "time: 0.1600399 seconds\n"
     ]
    }
   ],
   "source": [
    "print(f\"time: {round(urdaneta_time,7)} seconds\")"
   ]
  }
 ],
 "metadata": {
  "kernelspec": {
   "display_name": "Python 3 (ipykernel)",
   "language": "python",
   "name": "python3"
  },
  "language_info": {
   "codemirror_mode": {
    "name": "ipython",
    "version": 3
   },
   "file_extension": ".py",
   "mimetype": "text/x-python",
   "name": "python",
   "nbconvert_exporter": "python",
   "pygments_lexer": "ipython3",
   "version": "3.9.7"
  }
 },
 "nbformat": 4,
 "nbformat_minor": 1
}
